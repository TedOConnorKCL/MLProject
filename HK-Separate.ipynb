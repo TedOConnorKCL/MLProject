{
 "cells": [
  {
   "attachments": {},
   "cell_type": "markdown",
   "metadata": {},
   "source": [
    "# 2D-CNNs for MNIST dataset\n",
    "* Learn about:\n",
    "    * [THE MNIST DATABASE](http://yann.lecun.com/exdb/mnist/)\n",
    "    * Coding with PyTorch Lightning\n",
    "        * LightningDataModule\n",
    "        * LightningModule\n",
    "        * (optional) Logger, Trainer, callbacks\n",
    "    * Two types of the artificial neuralnetworks\n",
    "        * Multilayer perceptron (MLP)\n",
    "        * 2D Convolutional neuralnetworks (2D CNNs)\n",
    "* Let's try:\n",
    "    * Build MLP or CNNs by yourself\n",
    "    * Try to use other loss functions\n",
    "    * Try to change the training parameters\n",
    "        * learning rate, batch size, epochs, etc..."
   ]
  },
  {
   "attachments": {},
   "cell_type": "markdown",
   "metadata": {},
   "source": [
    "## Step1. Lightning data module for MNIST dataset ##"
   ]
  },
  {
   "cell_type": "markdown",
   "metadata": {},
   "source": []
  },
  {
   "attachments": {},
   "cell_type": "markdown",
   "metadata": {},
   "source": [
    "* `train_data`: 50,000\n",
    "* `test_data`: 10,000\n",
    "* `val_data`: 10,000"
   ]
  },
  {
   "cell_type": "code",
   "execution_count": 64,
   "metadata": {},
   "outputs": [],
   "source": [
    "import os\n",
    "import torch\n",
    "from torch.utils.data import Dataset\n",
    "import numpy as np\n",
    "\n",
    "from pytorch_lightning import LightningDataModule\n",
    "from torch.utils.data import DataLoader, random_split\n",
    "from torchvision.datasets import MNIST\n",
    "from torchvision import transforms\n",
    "from typing import Optional\n",
    "\n"
   ]
  },
  {
   "cell_type": "code",
   "execution_count": 65,
   "metadata": {},
   "outputs": [
    {
     "name": "stdout",
     "output_type": "stream",
     "text": [
      "True\n"
     ]
    }
   ],
   "source": [
    "print(torch.cuda.is_available())"
   ]
  },
  {
   "cell_type": "markdown",
   "metadata": {},
   "source": []
  },
  {
   "cell_type": "code",
   "execution_count": null,
   "metadata": {},
   "outputs": [],
   "source": [
    "class HKDataset(LightningDataModule):\n",
    "    def __init__(\n",
    "        self,\n",
    "        batch_size: int = 128,\n",
    "        num_workers: int = 2,\n",
    "        ):\n",
    "        super().__init__()\n",
    "\n",
    "        self.batch_size = batch_size\n",
    "        self.num_workers = num_workers\n",
    "        self.mean = ()\n",
    "        self.std = ()\n",
    "        self.trans = None\n",
    "\n",
    "    def setup(self, stage: Optional[str] = None) -> None:\n",
    "        imgs = torch.load('/home/edward/HK_Project/hyperk_img/imgs_scaled.pt')\n",
    "        labels_targets = torch.load('/home/edward/HK_Project/hyperk_img/labels_targets_scaled.pt')\n",
    "        indices = torch.load('/home/edward/HK_Project/hyperk_img/indices.pt')\n",
    "\n",
    "        self.train_data = torch.utils.data.TensorDataset( imgs[indices['train']], labels_targets[indices['train']])\n",
    "        self.valid_data = torch.utils.data.TensorDataset( imgs[indices['valid']], labels_targets[indices['valid']])\n",
    "        self.test_data = torch.utils.data.TensorDataset( imgs[indices['test']], labels_targets[indices['test']])\n",
    "\n",
    "    def train_dataloader(self):\n",
    "        return DataLoader(self.train_data, batch_size=self.batch_size, num_workers=self.num_workers, shuffle=True)\n",
    "\n",
    "    def val_dataloader(self):\n",
    "        return DataLoader(self.valid_data, batch_size=self.batch_size, num_workers=self.num_workers)\n",
    "\n",
    "    def test_dataloader(self):\n",
    "        return DataLoader(self.test_data, batch_size=self.batch_size, num_workers=self.num_workers)\n",
    "    "
   ]
  },
  {
   "attachments": {},
   "cell_type": "markdown",
   "metadata": {},
   "source": [
    "## Step2-2. 2D-CNNs model ##"
   ]
  },
  {
   "cell_type": "code",
   "execution_count": null,
   "metadata": {},
   "outputs": [],
   "source": [
    "from torch import nn\n",
    "import torch\n",
    "import torch.nn as nn\n",
    "import torch.nn.functional as F\n",
    "\n",
    "class SpatialTransformerNetwork(nn.Module):\n",
    "    def __init__(self, input_size, num_channels):\n",
    "        super(SpatialTransformerNetwork, self).__init__()\n",
    "        \n",
    "        \n",
    "        self.localization = nn.Sequential(\n",
    "            nn.Conv2d(num_channels, 8, kernel_size=7),  \n",
    "            nn.ReLU(),\n",
    "            nn.MaxPool2d(2, stride=2),                 \n",
    "            nn.Conv2d(8, 10, kernel_size=5),           \n",
    "            nn.ReLU(),\n",
    "            nn.MaxPool2d(2, stride=2),                 \n",
    "        )\n",
    "        \n",
    "        \n",
    "        self.fc_loc = nn.Sequential(\n",
    "            nn.Linear(1440, 32),  \n",
    "            nn.ReLU(),\n",
    "            nn.Linear(32, 6)  \n",
    "        )\n",
    "        \n",
    "        \n",
    "        self.fc_loc[2].weight.data.zero_()\n",
    "        self.fc_loc[2].bias.data.copy_(torch.tensor([1, 0, 0, 0, 1, 0], dtype=torch.float))\n",
    "    \n",
    "    def forward(self, x):\n",
    "        \n",
    "        batch_size = x.size(0)\n",
    "        xs = self.localization(x)\n",
    "        xs = xs.view(batch_size, -1)  \n",
    "        theta = self.fc_loc(xs)  \n",
    "        theta = theta.view(-1, 2, 3)  \n",
    "        \n",
    "        \n",
    "        grid = F.affine_grid(theta, x.size(), align_corners=False)\n",
    "        x = F.grid_sample(x, grid, align_corners=False)\n",
    "        return x\n",
    "\n",
    "\n",
    "\n",
    "class CNNs2D(nn.Module):\n",
    "    def __init__(self):\n",
    "        super(CNNs2D, self).__init__()\n",
    "        \n",
    "        self.stn = SpatialTransformerNetwork(input_size=(64, 64), num_channels=2) \n",
    "        \n",
    "        self.conv1 = nn.Sequential(\n",
    "            nn.Conv2d(in_channels=2, out_channels=32, kernel_size=2, stride=2, padding=2, bias=False),\n",
    "            nn.BatchNorm2d(32),\n",
    "            nn.ReLU(inplace=True),\n",
    "            nn.MaxPool2d(2),\n",
    "            nn.Dropout(0.2)\n",
    "        )\n",
    "        self.conv2 = nn.Sequential(\n",
    "            nn.Conv2d(32, 64, 2, 2, 2, bias=False),\n",
    "            nn.BatchNorm2d(64),\n",
    "            nn.ReLU(inplace=True),\n",
    "            nn.MaxPool2d(2),\n",
    "            nn.Dropout(0.2)\n",
    "        )\n",
    "        self.conv3 = nn.Sequential(\n",
    "            nn.Conv2d(64, 128, 2, 2, 2, bias=False),\n",
    "            nn.BatchNorm2d(128),\n",
    "            nn.ReLU(inplace=True),\n",
    "            nn.MaxPool2d(2),\n",
    "            nn.Dropout(0.2)\n",
    "        )\n",
    "\n",
    "        self.fc_layer = nn.Sequential(\n",
    "            nn.Linear(256, 256),\n",
    "            nn.ReLU(inplace=True),\n",
    "            nn.Linear(256, 128), \n",
    "            nn.ReLU(inplace=True),\n",
    "            nn.Linear(128, 64),   \n",
    "            nn.ReLU(inplace=True),\n",
    "        )\n",
    "\n",
    "        self.fc_layer_cap = nn.Sequential(\n",
    "            nn.Linear(128, 256),\n",
    "            nn.ReLU(inplace=True),\n",
    "            nn.Linear(256, 128), \n",
    "            nn.ReLU(inplace=True),\n",
    "            nn.Linear(128, 64),   \n",
    "            nn.ReLU(inplace=True),\n",
    "        )\n",
    "\n",
    "        \n",
    "\n",
    "        self.fc_class_layer = nn.Sequential(\n",
    "            nn.Linear(192,64),\n",
    "            nn.ReLU(inplace=True),\n",
    "            nn.Linear(64, 2),     \n",
    "            nn.Softmax(dim=1)\n",
    "        )\n",
    "        self.fc_regression_layer = nn.Sequential(\n",
    "            nn.Linear(192,64),\n",
    "            nn.ReLU(inplace=True),\n",
    "            nn.Linear(64, 4),    \n",
    "            nn.Tanh()\n",
    "        )\n",
    "    def forward(self, x):\n",
    "        x = self.stn(x)\n",
    "        #print('x0', x.shape)\n",
    "        region1 = x[:, :, 0:20, 21:42]\n",
    "        region2 = x[:, :, 21:43, :]\n",
    "        region3 = x[:, :, 44:64, 21:42]\n",
    "        \n",
    "        def process_barrel_region(region):\n",
    "            \n",
    "            region = self.conv1(region)\n",
    "            region = self.conv2(region)\n",
    "            region = self.conv3(region)\n",
    "            region = region.view(region.size(0), -1)\n",
    "            return self.fc_layer(region)\n",
    "        \n",
    "        def process_cap_region(region):\n",
    "            \n",
    "            region = self.conv1(region)\n",
    "            region = self.conv2(region)\n",
    "            region = self.conv3(region)\n",
    "            region = region.view(region.size(0), -1)\n",
    "            return self.fc_layer_cap(region)\n",
    "\n",
    "        r1 = process_cap_region(region1)\n",
    "        r2 = process_barrel_region(region2)\n",
    "        r3 = process_cap_region(region3)\n",
    "        x = torch.cat((r1, r2, r3), dim=1)\n",
    "        \n",
    "        #print('x4', x.shape, x)\n",
    "        return [self.fc_class_layer(x), self.fc_regression_layer(x)]\n",
    "    \n",
    "class RMSLELoss(nn.Module):\n",
    "    def __init__(self):\n",
    "        super().__init__()\n",
    "        self.mse = nn.MSELoss()\n",
    "\n",
    "    def forward(self, pred, actual):\n",
    "        return torch.sqrt(self.mse(torch.log(pred+1), torch.log(actual+1)))\n",
    "    \n",
    "def rse_loss(pred, target):\n",
    "        return torch.sqrt(torch.sum((pred-target)**2)/torch.sum((target-torch.mean(target))**2))\n",
    "    "
   ]
  },
  {
   "attachments": {},
   "cell_type": "markdown",
   "metadata": {},
   "source": [
    "## Step3. Pytorch lightning module ##"
   ]
  },
  {
   "cell_type": "code",
   "execution_count": 69,
   "metadata": {},
   "outputs": [],
   "source": [
    "from torch.nn import functional as F\n",
    "from torch import optim\n",
    "from torch import Tensor\n",
    "from torchmetrics.classification import BinaryAccuracy\n",
    "from pytorch_lightning import LightningModule\n",
    "\n",
    "class FocalLoss(nn.Module):\n",
    "    def __init__(self, alpha=0.25, gamma = 5):\n",
    "        super(FocalLoss, self).__init__()\n",
    "        self.alpha = alpha\n",
    "        self.gamma = gamma\n",
    "        self.ce_loss = nn.CrossEntropyLoss(reduction = 'none')\n",
    "\n",
    "    def forward(self, inputs, targets):\n",
    "        ce_loss = self.ce_loss(inputs, targets)\n",
    "        p_t = torch.exp(-ce_loss)\n",
    "        focal_loss = self.alpha * (1-p_t)**self.gamma*ce_loss\n",
    "        return focal_loss.mean()\n",
    "\n",
    "class PLModuleMNIST(LightningModule):\n",
    "    def __init__(self, model, lr_rate):\n",
    "        super(PLModuleMNIST, self).__init__()\n",
    "        self.model = model\n",
    "        self.lr_rate = lr_rate\n",
    "        self.accuracy_calc = BinaryAccuracy(threshold=0.5)\n",
    "        self.focal_loss = FocalLoss(alpha = 0.25, gamma = 4.5)\n",
    "        self.automatic_optimization = False\n",
    "        self.loss_training = []\n",
    "        self.loss_valid = []\n",
    "        self.loss_training_epoch = []\n",
    "        self.loss_valid_epoch = []\n",
    "        \n",
    "        self.acc_training = []\n",
    "        self.acc_valid = []\n",
    "        self.acc_training_epoch = []\n",
    "        self.acc_valid_epoch = []\n",
    "\n",
    "    def forward(self, batch: Tensor, **kwargs) -> Tensor:\n",
    "        #print('batch:', batch.size)\n",
    "        return self.model(batch)\n",
    "\n",
    "    #def loss_fn(self, x, y):\n",
    "    #    #print('loss:x,y',x.shape, y.shape)\n",
    "    #    #print('type',x[0].dtype, y[0].dtype)\n",
    "    #    return F.nll_loss(x, y)\n",
    "    \n",
    "    #def loss_fn_regression(self, x, y):\n",
    "    #    #print(x[0][0], y[0][0])\n",
    "    #    loss_energy = F.l1_loss(x[:,0], y[:,0])\n",
    "    #    loss_position = F.l1_loss(x[:,1:4], y[:,1:4])\n",
    "    #    loss = loss_energy + loss_position\n",
    "    #    return loss\n",
    "\n",
    "\n",
    "    def loss_fn(self, x, y):\n",
    "        x_class=x[0]\n",
    "        y_class=torch.tensor(y[:,0], dtype=torch.int64)\n",
    "        \n",
    "        #print(y)\n",
    "        x_reg=x[1]\n",
    "        y_reg=y[:,1:]\n",
    "        \n",
    "        loss_class = self.focal_loss(x_class, y_class)\n",
    "        loss_energy = rse_loss(x_reg[:,0], y_reg[:,0])\n",
    "        loss_position = rse_loss(x_reg[:,1:4], y_reg[:,1:4])\n",
    "        loss = loss_class + loss_energy + loss_position\n",
    "        \n",
    "        return loss\n",
    "\n",
    "    def training_step(self, batch):\n",
    "        opt = self.optimizers()\n",
    "        opt.zero_grad()\n",
    "        \n",
    "        x, y = batch\n",
    "        label=torch.tensor(y[:,0], dtype=torch.int64)\n",
    "        #targets=y[:,1:5]\n",
    "        \n",
    "        logits = self.forward(x)\n",
    "        loss = self.loss_fn(logits,y)\n",
    "        #loss = self.loss_fn(logits,y[:,0])\n",
    "        #loss = self.loss_fn_regression(logits,targets)\n",
    "        \n",
    "        acc = self.accuracy_calc(logits[0][:,1], label)\n",
    "        \n",
    "        self.manual_backward(loss)\n",
    "        opt.step()\n",
    "\n",
    "        self.loss_training.append(loss)\n",
    "        self.acc_training.append(acc)        \n",
    "\n",
    "        \n",
    "    def validation_step(self, batch):\n",
    "        x, y = batch\n",
    "        \n",
    "        label=torch.tensor(y[:,0], dtype=torch.int64)\n",
    "        #targets=y[:,1:5]\n",
    "        #print('val:x,y', x.shape, y.shape)\n",
    "        #print('type',type(x), type(y))\n",
    "        logits = self.forward(x)\n",
    "        loss = self.loss_fn(logits,y)\n",
    "        acc = self.accuracy_calc(logits[0][:,1], label)\n",
    "        #loss = self.loss_fn(logits,y[:,0])\n",
    "        #loss = self.loss_fn_regression(logits,targets)\n",
    "        #acc = self.accuracy_calc(logits, y[:,0])\n",
    "        self.loss_valid.append(loss)\n",
    "        self.acc_valid.append(acc)\n",
    "\n",
    "    \n",
    "    def test_step(self, batch):\n",
    "        x, y = batch\n",
    "        label=torch.tensor(y[:,0], dtype=torch.int64)\n",
    "        #targets=y[:,1:5]\n",
    "        logits = self.forward(x)\n",
    "        loss = self.loss_fn(logits,y)\n",
    "        acc = self.accuracy_calc(x[1], label)\n",
    "        \n",
    "        #loss = self.loss_fn(logits,y[:,0])\n",
    "        #loss = self.loss_fn_regression(logits,targets)\n",
    "        #acc = self.accuracy_calc(logits, y[:,0])\n",
    "\n",
    "    \n",
    "    def on_train_epoch_end(self) -> None:\n",
    "        avg_loss = torch.stack(self.loss_training).mean()\n",
    "        avg_acc = torch.stack(self.acc_training).mean()\n",
    "        self.loss_training.clear()\n",
    "        self.acc_training.clear()\n",
    "        #print('train_loss:', avg_loss, 'train_acc', avg_acc)\n",
    "        self.loss_training_epoch.append(avg_loss)\n",
    "        self.acc_training_epoch.append(avg_acc)\n",
    "        self.log('loss/train',avg_loss)\n",
    "        self.log('acc/train',avg_acc)\n",
    "\n",
    "    def on_validation_epoch_end(self) -> None:\n",
    "        avg_loss = torch.stack(self.loss_valid).mean()\n",
    "        avg_acc = torch.stack(self.acc_valid).mean()\n",
    "        self.loss_valid.clear()\n",
    "        self.acc_valid.clear()\n",
    "        self.loss_valid_epoch.append(avg_loss)\n",
    "        self.acc_valid_epoch.append(avg_acc)\n",
    "        self.log('loss/valid',avg_loss)\n",
    "        self.log('acc/valid',avg_acc)\n",
    "\n",
    "\n",
    "    def configure_optimizers(self):\n",
    "        optimizer =  optim.Adam(self.parameters(), lr=self.lr_rate, weight_decay = 1e-4)\n",
    "        lr_scheduler = {'scheduler': optim.lr_scheduler.ExponentialLR(optimizer, gamma=0.9), 'name': 'exp_LR'}\n",
    "        return [optimizer], [lr_scheduler]\n",
    "        #return optim.Adam(self.model.parameters(), lr=0.001)"
   ]
  },
  {
   "attachments": {},
   "cell_type": "markdown",
   "metadata": {},
   "source": [
    "## Step4. Logger ##\n",
    "Tensorboard logger is used. A window of tensorboard opens here."
   ]
  },
  {
   "cell_type": "code",
   "execution_count": 70,
   "metadata": {},
   "outputs": [],
   "source": [
    "from pytorch_lightning.loggers import TensorBoardLogger\n",
    "\n",
    "logger = TensorBoardLogger(save_dir='./tb_logs/', name = 'HK')\n",
    "\n",
    "\n",
    "#%reload_ext tensorboard\n",
    "#%tensorboard --logdir=./tb_logs/"
   ]
  },
  {
   "attachments": {},
   "cell_type": "markdown",
   "metadata": {},
   "source": [
    "## Step5. Build & fit a model ##\n",
    "Select whether to use `MLP()` or `CNNs2D()` for the model. The settings for the learning is described here.\n",
    "* `lr_rate`: learning rate\n",
    "* `batch_size`\n",
    "* `max_epochs`"
   ]
  },
  {
   "cell_type": "code",
   "execution_count": 71,
   "metadata": {},
   "outputs": [],
   "source": [
    "model_core = CNNs2D() # or MLP()\n",
    "#model_core = MLP()\n",
    "model = PLModuleMNIST(model = model_core, lr_rate=0.002)\n",
    "dm = HKDataset(batch_size=512)"
   ]
  },
  {
   "cell_type": "code",
   "execution_count": null,
   "metadata": {},
   "outputs": [
    {
     "name": "stderr",
     "output_type": "stream",
     "text": [
      "You are using the plain ModelCheckpoint callback. Consider using LitModelCheckpoint which with seamless uploading to Model registry.\n",
      "GPU available: True (cuda), used: True\n",
      "TPU available: False, using: 0 TPU cores\n",
      "HPU available: False, using: 0 HPUs\n",
      "LOCAL_RANK: 0 - CUDA_VISIBLE_DEVICES: [0]\n",
      "\n",
      "  | Name          | Type           | Params | Mode \n",
      "---------------------------------------------------------\n",
      "0 | model         | CNNs2D         | 317 K  | train\n",
      "1 | accuracy_calc | BinaryAccuracy | 0      | train\n",
      "2 | focal_loss    | FocalLoss      | 0      | train\n",
      "---------------------------------------------------------\n",
      "317 K     Trainable params\n",
      "0         Non-trainable params\n",
      "317 K     Total params\n",
      "1.270     Total estimated model params size (MB)\n",
      "61        Modules in train mode\n",
      "0         Modules in eval mode\n"
     ]
    },
    {
     "name": "stdout",
     "output_type": "stream",
     "text": [
      "Sanity Checking DataLoader 0:   0%|          | 0/2 [00:00<?, ?it/s]"
     ]
    },
    {
     "name": "stderr",
     "output_type": "stream",
     "text": [
      "/tmp/ipykernel_791901/1075227814.py:95: UserWarning: To copy construct from a tensor, it is recommended to use sourceTensor.clone().detach() or sourceTensor.clone().detach().requires_grad_(True), rather than torch.tensor(sourceTensor).\n",
      "  label=torch.tensor(y[:,0], dtype=torch.int64)\n",
      "/tmp/ipykernel_791901/1075227814.py:57: UserWarning: To copy construct from a tensor, it is recommended to use sourceTensor.clone().detach() or sourceTensor.clone().detach().requires_grad_(True), rather than torch.tensor(sourceTensor).\n",
      "  y_class=torch.tensor(y[:,0], dtype=torch.int64)\n"
     ]
    },
    {
     "name": "stdout",
     "output_type": "stream",
     "text": [
      "                                                                           \r"
     ]
    },
    {
     "name": "stderr",
     "output_type": "stream",
     "text": [
      "/home/edward/.venv/lib/python3.12/site-packages/pytorch_lightning/loops/fit_loop.py:310: The number of training batches (20) is smaller than the logging interval Trainer(log_every_n_steps=50). Set a lower value for log_every_n_steps if you want to see logs for the training epoch.\n"
     ]
    },
    {
     "name": "stdout",
     "output_type": "stream",
     "text": [
      "Epoch 0:   0%|          | 0/20 [00:00<?, ?it/s] "
     ]
    },
    {
     "name": "stderr",
     "output_type": "stream",
     "text": [
      "/tmp/ipykernel_791901/1075227814.py:75: UserWarning: To copy construct from a tensor, it is recommended to use sourceTensor.clone().detach() or sourceTensor.clone().detach().requires_grad_(True), rather than torch.tensor(sourceTensor).\n",
      "  label=torch.tensor(y[:,0], dtype=torch.int64)\n"
     ]
    },
    {
     "name": "stdout",
     "output_type": "stream",
     "text": [
      "Epoch 199: 100%|██████████| 20/20 [00:01<00:00, 12.55it/s, v_num=132]"
     ]
    },
    {
     "name": "stderr",
     "output_type": "stream",
     "text": [
      "`Trainer.fit` stopped: `max_epochs=200` reached.\n"
     ]
    },
    {
     "name": "stdout",
     "output_type": "stream",
     "text": [
      "Epoch 199: 100%|██████████| 20/20 [00:01<00:00, 12.15it/s, v_num=132]\n"
     ]
    }
   ],
   "source": [
    "from pytorch_lightning import Trainer\n",
    "from pytorch_lightning.callbacks.progress import TQDMProgressBar\n",
    "\n",
    "runner = Trainer(max_epochs=100, \n",
    "                 #gpus=[0],\n",
    "                 accelerator='cpu',  # or 'gpu', 'auto'\n",
    "                 devices = 1,\n",
    "                 logger=logger, \n",
    "                 callbacks=[TQDMProgressBar(refresh_rate=10)])\n",
    "\n",
    "\n",
    "runner.fit(model, dm)"
   ]
  },
  {
   "attachments": {},
   "cell_type": "markdown",
   "metadata": {},
   "source": [
    "## Step6. Check the trained model ##\n",
    "* Structure of the model\n",
    "* Classification performance for the test dataset\n",
    "* Feature maps"
   ]
  },
  {
   "attachments": {},
   "cell_type": "markdown",
   "metadata": {},
   "source": [
    "#### Step6-1. Structure of the trained model ####"
   ]
  },
  {
   "cell_type": "code",
   "execution_count": 73,
   "metadata": {},
   "outputs": [
    {
     "name": "stdout",
     "output_type": "stream",
     "text": [
      "PLModuleMNIST(\n",
      "  (model): CNNs2D(\n",
      "    (stn): SpatialTransformerNetwork(\n",
      "      (localization): Sequential(\n",
      "        (0): Conv2d(2, 8, kernel_size=(7, 7), stride=(1, 1))\n",
      "        (1): ReLU()\n",
      "        (2): MaxPool2d(kernel_size=2, stride=2, padding=0, dilation=1, ceil_mode=False)\n",
      "        (3): Conv2d(8, 10, kernel_size=(5, 5), stride=(1, 1))\n",
      "        (4): ReLU()\n",
      "        (5): MaxPool2d(kernel_size=2, stride=2, padding=0, dilation=1, ceil_mode=False)\n",
      "      )\n",
      "      (fc_loc): Sequential(\n",
      "        (0): Linear(in_features=1440, out_features=32, bias=True)\n",
      "        (1): ReLU()\n",
      "        (2): Linear(in_features=32, out_features=6, bias=True)\n",
      "      )\n",
      "    )\n",
      "    (upconv1): ConvTranspose2d(2, 16, kernel_size=(2, 2), stride=(2, 2), padding=(2, 2), output_padding=(1, 1), bias=False)\n",
      "    (conv1): Sequential(\n",
      "      (0): Conv2d(2, 32, kernel_size=(2, 2), stride=(2, 2), padding=(2, 2), bias=False)\n",
      "      (1): BatchNorm2d(32, eps=1e-05, momentum=0.1, affine=True, track_running_stats=True)\n",
      "      (2): ReLU(inplace=True)\n",
      "      (3): MaxPool2d(kernel_size=2, stride=2, padding=0, dilation=1, ceil_mode=False)\n",
      "      (4): Dropout(p=0.2, inplace=False)\n",
      "    )\n",
      "    (upconv2): ConvTranspose2d(32, 32, kernel_size=(2, 2), stride=(2, 2), padding=(2, 2), output_padding=(1, 1), bias=False)\n",
      "    (conv2): Sequential(\n",
      "      (0): Conv2d(32, 64, kernel_size=(2, 2), stride=(2, 2), padding=(2, 2), bias=False)\n",
      "      (1): BatchNorm2d(64, eps=1e-05, momentum=0.1, affine=True, track_running_stats=True)\n",
      "      (2): ReLU(inplace=True)\n",
      "      (3): MaxPool2d(kernel_size=2, stride=2, padding=0, dilation=1, ceil_mode=False)\n",
      "      (4): Dropout(p=0.2, inplace=False)\n",
      "    )\n",
      "    (upconv3): ConvTranspose2d(64, 64, kernel_size=(2, 2), stride=(2, 2), padding=(2, 2), output_padding=(1, 1), bias=False)\n",
      "    (conv3): Sequential(\n",
      "      (0): Conv2d(64, 128, kernel_size=(2, 2), stride=(2, 2), padding=(2, 2), bias=False)\n",
      "      (1): BatchNorm2d(128, eps=1e-05, momentum=0.1, affine=True, track_running_stats=True)\n",
      "      (2): ReLU(inplace=True)\n",
      "      (3): MaxPool2d(kernel_size=2, stride=2, padding=0, dilation=1, ceil_mode=False)\n",
      "      (4): Dropout(p=0.2, inplace=False)\n",
      "    )\n",
      "    (fc_layer): Sequential(\n",
      "      (0): Linear(in_features=256, out_features=256, bias=True)\n",
      "      (1): ReLU(inplace=True)\n",
      "      (2): Linear(in_features=256, out_features=128, bias=True)\n",
      "      (3): ReLU(inplace=True)\n",
      "      (4): Linear(in_features=128, out_features=64, bias=True)\n",
      "      (5): ReLU(inplace=True)\n",
      "    )\n",
      "    (fc_layer_cap): Sequential(\n",
      "      (0): Linear(in_features=128, out_features=256, bias=True)\n",
      "      (1): ReLU(inplace=True)\n",
      "      (2): Linear(in_features=256, out_features=128, bias=True)\n",
      "      (3): ReLU(inplace=True)\n",
      "      (4): Linear(in_features=128, out_features=64, bias=True)\n",
      "      (5): ReLU(inplace=True)\n",
      "    )\n",
      "    (fc_class_layer): Sequential(\n",
      "      (0): Linear(in_features=192, out_features=64, bias=True)\n",
      "      (1): ReLU(inplace=True)\n",
      "      (2): Linear(in_features=64, out_features=2, bias=True)\n",
      "      (3): Softmax(dim=1)\n",
      "    )\n",
      "    (fc_regression_layer): Sequential(\n",
      "      (0): Linear(in_features=192, out_features=64, bias=True)\n",
      "      (1): ReLU(inplace=True)\n",
      "      (2): Linear(in_features=64, out_features=4, bias=True)\n",
      "      (3): Tanh()\n",
      "    )\n",
      "  )\n",
      "  (accuracy_calc): BinaryAccuracy()\n",
      "  (focal_loss): FocalLoss(\n",
      "    (ce_loss): CrossEntropyLoss()\n",
      "  )\n",
      ")\n"
     ]
    }
   ],
   "source": [
    "## You can load the trained model at the specific checkpoint\n",
    "#model = PLModuleMNIST.load_from_checkpoint(model=model_core, lr_rate=0.001, checkpoint_path='tb_logs/HK/version_30/checkpoints/epoch=468-step=37051.ckpt')\n",
    "print(model)"
   ]
  },
  {
   "cell_type": "code",
   "execution_count": 74,
   "metadata": {},
   "outputs": [],
   "source": [
    "model.eval()\n",
    "#dm.setup() # when you load the model from a checkpoint\n",
    "\n",
    "labels_targets = []\n",
    "#outputs = []\n",
    "outputs_class = []\n",
    "outputs_targets = []\n",
    "for batch in dm.test_dataloader():\n",
    "    x, y = batch \n",
    "    \n",
    "    outputs = model.model(x)\n",
    "    out_class = outputs[0].to('cpu').detach()\n",
    "    out_targets =  outputs[1].to('cpu').detach()\n",
    "    outputs_class.append(out_class)\n",
    "    outputs_targets.append(out_targets)\n",
    "    labels_targets.append(y.to('cpu').detach())\n",
    "    "
   ]
  },
  {
   "cell_type": "code",
   "execution_count": 75,
   "metadata": {},
   "outputs": [],
   "source": [
    "labels_targets=np.vstack(labels_targets)\n",
    "outputs_class=np.vstack(outputs_class)\n",
    "outputs_targets=np.vstack(outputs_targets)\n",
    "\n"
   ]
  },
  {
   "cell_type": "code",
   "execution_count": 76,
   "metadata": {},
   "outputs": [],
   "source": [
    "\n",
    "\n",
    "#torch.save(labels_targets, 'test_labels_targets.pt')\n",
    "#torch.save(outputs_class, 'test_outputs_class.pt')\n",
    "#torch.save(outputs_targets, 'test_outputs_targets.pt')"
   ]
  },
  {
   "attachments": {},
   "cell_type": "markdown",
   "metadata": {},
   "source": [
    "#### Step6-2. Classification perfromance for the test dataset ####\n",
    "`Loss` and `Accuracy` are useful metrics for understanding the performance"
   ]
  },
  {
   "cell_type": "code",
   "execution_count": 77,
   "metadata": {},
   "outputs": [
    {
     "data": {
      "image/png": "[encoded data removed]",
      "text/plain": [
       "<Figure size 640x480 with 1 Axes>"
      ]
     },
     "metadata": {},
     "output_type": "display_data"
    },
    {
     "data": {
      "image/png": "[encoded data removed]",
      "text/plain": [
       "<Figure size 640x480 with 1 Axes>"
      ]
     },
     "metadata": {},
     "output_type": "display_data"
    }
   ],
   "source": [
    "import matplotlib.pyplot as plt\n",
    "loss_train = [i.to('cpu').detach().numpy() for i in model.loss_training_epoch]\n",
    "loss_valid = [i.to('cpu').detach().numpy() for i in model.loss_valid_epoch]\n",
    "\n",
    "plt.plot(loss_train, label='train')\n",
    "plt.plot(loss_valid, label='valid')\n",
    "plt.xlabel('Epoch')\n",
    "plt.ylabel('Loss')\n",
    "plt.grid()\n",
    "plt.legend()\n",
    "#plt.ylim([None, 1])\n",
    "plt.show()\n",
    "\n",
    "\n",
    "acc_train = [i.to('cpu').detach().numpy() for i in model.acc_training_epoch]\n",
    "acc_valid = [i.to('cpu').detach().numpy() for i in model.acc_valid_epoch]\n",
    "\n",
    "plt.plot(acc_train, label='train')\n",
    "plt.plot(acc_valid, label='valid')\n",
    "plt.xlabel('Epoch')\n",
    "plt.ylabel('Accuracy')\n",
    "plt.grid()\n",
    "plt.legend()\n",
    "#plt.ylim([None, 1])\n",
    "plt.show()"
   ]
  },
  {
   "cell_type": "code",
   "execution_count": 78,
   "metadata": {},
   "outputs": [],
   "source": [
    "torch.save(labels_targets, 'Sep_test_labels_targets.pt')\n",
    "torch.save(outputs_class, 'Sep_test_outputs_class.pt')\n",
    "torch.save(outputs_targets, 'Sep_test_outputs_targets.pt')"
   ]
  },
  {
   "cell_type": "code",
   "execution_count": null,
   "metadata": {},
   "outputs": [],
   "source": []
  }
 ],
 "metadata": {
  "kernelspec": {
   "display_name": ".venv",
   "language": "python",
   "name": "python3"
  },
  "language_info": {
   "codemirror_mode": {
    "name": "ipython",
    "version": 3
   },
   "file_extension": ".py",
   "mimetype": "text/x-python",
   "name": "python",
   "nbconvert_exporter": "python",
   "pygments_lexer": "ipython3",
   "version": "3.12.3"
  },
  "orig_nbformat": 4
 },
 "nbformat": 4,
 "nbformat_minor": 2
}
